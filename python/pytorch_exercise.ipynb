{
 "cells": [
  {
   "cell_type": "code",
   "execution_count": 1,
   "id": "a7c3be65",
   "metadata": {},
   "outputs": [],
   "source": [
    "import numpy as np"
   ]
  },
  {
   "cell_type": "code",
   "execution_count": 2,
   "id": "fdbd8de7",
   "metadata": {},
   "outputs": [
    {
     "name": "stdout",
     "output_type": "stream",
     "text": [
      "0.6931471805599453\n"
     ]
    }
   ],
   "source": [
    "print(np.log(2))"
   ]
  },
  {
   "cell_type": "code",
   "execution_count": 3,
   "id": "f609405a",
   "metadata": {},
   "outputs": [
    {
     "ename": "NameError",
     "evalue": "name 'tensor' is not defined",
     "output_type": "error",
     "traceback": [
      "\u001b[1;31m---------------------------------------------------------------------------\u001b[0m",
      "\u001b[1;31mNameError\u001b[0m                                 Traceback (most recent call last)",
      "\u001b[1;32m<ipython-input-3-92f1132360a9>\u001b[0m in \u001b[0;36m<module>\u001b[1;34m\u001b[0m\n\u001b[1;32m----> 1\u001b[1;33m \u001b[0ma\u001b[0m \u001b[1;33m=\u001b[0m \u001b[0mtensor\u001b[0m\u001b[1;33m(\u001b[0m\u001b[1;36m1\u001b[0m\u001b[1;33m)\u001b[0m\u001b[1;33m\u001b[0m\u001b[1;33m\u001b[0m\u001b[0m\n\u001b[0m",
      "\u001b[1;31mNameError\u001b[0m: name 'tensor' is not defined"
     ]
    }
   ],
   "source": [
    "a = tensor(1)"
   ]
  },
  {
   "cell_type": "code",
   "execution_count": 4,
   "id": "a3c85df9",
   "metadata": {},
   "outputs": [
    {
     "ename": "NameError",
     "evalue": "name 'tensor' is not defined",
     "output_type": "error",
     "traceback": [
      "\u001b[1;31m---------------------------------------------------------------------------\u001b[0m",
      "\u001b[1;31mNameError\u001b[0m                                 Traceback (most recent call last)",
      "\u001b[1;32m<ipython-input-4-6473c73a11da>\u001b[0m in \u001b[0;36m<module>\u001b[1;34m\u001b[0m\n\u001b[1;32m----> 1\u001b[1;33m \u001b[0ma\u001b[0m \u001b[1;33m=\u001b[0m \u001b[0mtensor\u001b[0m\u001b[1;33m[\u001b[0m\u001b[1;36m1.\u001b[0m\u001b[1;33m]\u001b[0m\u001b[1;33m\u001b[0m\u001b[1;33m\u001b[0m\u001b[0m\n\u001b[0m",
      "\u001b[1;31mNameError\u001b[0m: name 'tensor' is not defined"
     ]
    }
   ],
   "source": [
    "a = tensor[1.]"
   ]
  },
  {
   "cell_type": "code",
   "execution_count": 5,
   "id": "860bee03",
   "metadata": {},
   "outputs": [],
   "source": [
    "import torch"
   ]
  },
  {
   "cell_type": "code",
   "execution_count": 6,
   "id": "cb997948",
   "metadata": {},
   "outputs": [],
   "source": [
    "a = torch.tensor([1.])"
   ]
  },
  {
   "cell_type": "code",
   "execution_count": 10,
   "id": "5710b632",
   "metadata": {},
   "outputs": [],
   "source": [
    "b = torch.div(a,np.log(2))"
   ]
  },
  {
   "cell_type": "code",
   "execution_count": 8,
   "id": "2d183ac5",
   "metadata": {},
   "outputs": [
    {
     "name": "stdout",
     "output_type": "stream",
     "text": [
      "tensor([1.4427])\n"
     ]
    }
   ],
   "source": [
    "print(b)"
   ]
  },
  {
   "cell_type": "code",
   "execution_count": 9,
   "id": "44bf9e84",
   "metadata": {},
   "outputs": [
    {
     "name": "stdout",
     "output_type": "stream",
     "text": [
      "1.4426950408889634\n"
     ]
    }
   ],
   "source": [
    "print(1/np.log(2))"
   ]
  },
  {
   "cell_type": "code",
   "execution_count": 11,
   "id": "78583e7e",
   "metadata": {},
   "outputs": [
    {
     "ename": "SyntaxError",
     "evalue": "invalid character in identifier (<ipython-input-11-60112b1e9044>, line 1)",
     "output_type": "error",
     "traceback": [
      "\u001b[1;36m  File \u001b[1;32m\"<ipython-input-11-60112b1e9044>\"\u001b[1;36m, line \u001b[1;32m1\u001b[0m\n\u001b[1;33m    torch.randnn（4，4）\u001b[0m\n\u001b[1;37m                    ^\u001b[0m\n\u001b[1;31mSyntaxError\u001b[0m\u001b[1;31m:\u001b[0m invalid character in identifier\n"
     ]
    }
   ],
   "source": [
    "torch.randnn（4，4）"
   ]
  },
  {
   "cell_type": "code",
   "execution_count": 14,
   "id": "242aa842",
   "metadata": {},
   "outputs": [],
   "source": [
    "tensor_1 = torch.rand(4,4)"
   ]
  },
  {
   "cell_type": "code",
   "execution_count": 15,
   "id": "cc6c4872",
   "metadata": {},
   "outputs": [
    {
     "name": "stdout",
     "output_type": "stream",
     "text": [
      "16\n"
     ]
    }
   ],
   "source": [
    "print(torch.numel(tensor_1))"
   ]
  },
  {
   "cell_type": "code",
   "execution_count": 16,
   "id": "eac8f068",
   "metadata": {},
   "outputs": [
    {
     "data": {
      "text/plain": [
       "tensor(8.5322)"
      ]
     },
     "execution_count": 16,
     "metadata": {},
     "output_type": "execute_result"
    }
   ],
   "source": [
    "torch.sum(tensor_1)"
   ]
  },
  {
   "cell_type": "code",
   "execution_count": 17,
   "id": "c98b9298",
   "metadata": {
    "scrolled": true
   },
   "outputs": [
    {
     "name": "stdout",
     "output_type": "stream",
     "text": [
      "tensor([[0.4978, 0.8718, 0.0485, 0.5742],\n",
      "        [0.8328, 0.5669, 0.6001, 0.2621],\n",
      "        [0.1536, 0.8301, 0.8132, 0.8417],\n",
      "        [0.1100, 0.7787, 0.4802, 0.2706]])\n"
     ]
    }
   ],
   "source": [
    "print(tensor_1)"
   ]
  },
  {
   "cell_type": "code",
   "execution_count": 18,
   "id": "35d52ed2",
   "metadata": {},
   "outputs": [
    {
     "data": {
      "text/plain": [
       "tensor([1.5942, 3.0475, 1.9419, 1.9486])"
      ]
     },
     "execution_count": 18,
     "metadata": {},
     "output_type": "execute_result"
    }
   ],
   "source": [
    "torch.sum(tensor_1,dim=0)"
   ]
  },
  {
   "cell_type": "code",
   "execution_count": 19,
   "id": "e02b3388",
   "metadata": {},
   "outputs": [
    {
     "data": {
      "text/plain": [
       "tensor([1.9923, 2.2619, 2.6385, 1.6395])"
      ]
     },
     "execution_count": 19,
     "metadata": {},
     "output_type": "execute_result"
    }
   ],
   "source": [
    "torch.sum(tensor_1,dim=1)"
   ]
  },
  {
   "cell_type": "code",
   "execution_count": 20,
   "id": "3d7b3582",
   "metadata": {},
   "outputs": [
    {
     "data": {
      "text/plain": [
       "tensor([[49.7835, 87.1772,  4.8517, 57.4176],\n",
       "        [83.2794, 56.6933, 60.0051, 26.2079],\n",
       "        [15.3552, 83.0117, 81.3182, 84.1689],\n",
       "        [11.0047, 77.8650, 48.0197, 27.0629]])"
      ]
     },
     "execution_count": 20,
     "metadata": {},
     "output_type": "execute_result"
    }
   ],
   "source": [
    "100*tensor_1"
   ]
  },
  {
   "cell_type": "code",
   "execution_count": 21,
   "id": "e7c469b6",
   "metadata": {},
   "outputs": [
    {
     "data": {
      "text/plain": [
       "tensor([[0.0498, 0.0872, 0.0049, 0.0574],\n",
       "        [0.0833, 0.0567, 0.0600, 0.0262],\n",
       "        [0.0154, 0.0830, 0.0813, 0.0842],\n",
       "        [0.0110, 0.0779, 0.0480, 0.0271]])"
      ]
     },
     "execution_count": 21,
     "metadata": {},
     "output_type": "execute_result"
    }
   ],
   "source": [
    "tensor_1/10"
   ]
  },
  {
   "cell_type": "code",
   "execution_count": 22,
   "id": "b21ec2a3",
   "metadata": {},
   "outputs": [
    {
     "data": {
      "text/plain": [
       "tensor([[0.0498, 0.0872, 0.0049, 0.0574],\n",
       "        [0.0833, 0.0567, 0.0600, 0.0262],\n",
       "        [0.0154, 0.0830, 0.0813, 0.0842],\n",
       "        [0.0110, 0.0779, 0.0480, 0.0271]])"
      ]
     },
     "execution_count": 22,
     "metadata": {},
     "output_type": "execute_result"
    }
   ],
   "source": [
    "torch.div(tensor_1,10)"
   ]
  },
  {
   "cell_type": "code",
   "execution_count": 23,
   "id": "b4e938ab",
   "metadata": {},
   "outputs": [
    {
     "ename": "SyntaxError",
     "evalue": "EOL while scanning string literal (<ipython-input-23-c359b429db43>, line 1)",
     "output_type": "error",
     "traceback": [
      "\u001b[1;36m  File \u001b[1;32m\"<ipython-input-23-c359b429db43>\"\u001b[1;36m, line \u001b[1;32m1\u001b[0m\n\u001b[1;33m    path = r'D:\\'\u001b[0m\n\u001b[1;37m                 ^\u001b[0m\n\u001b[1;31mSyntaxError\u001b[0m\u001b[1;31m:\u001b[0m EOL while scanning string literal\n"
     ]
    }
   ],
   "source": [
    "path = r'D:\\'"
   ]
  },
  {
   "cell_type": "code",
   "execution_count": 35,
   "id": "91be3d29",
   "metadata": {},
   "outputs": [],
   "source": [
    "path = r'D:\\GAN'"
   ]
  },
  {
   "cell_type": "code",
   "execution_count": 36,
   "id": "494aa9a1",
   "metadata": {},
   "outputs": [],
   "source": [
    "import os"
   ]
  },
  {
   "cell_type": "code",
   "execution_count": 37,
   "id": "f4a24888",
   "metadata": {},
   "outputs": [
    {
     "name": "stdout",
     "output_type": "stream",
     "text": [
      "D:\\GAN ['1', '2'] ['DCGAN.pdf', 'GAN_1.pdf']\n",
      "D:\\GAN\\1 [] ['1.docx']\n",
      "D:\\GAN\\2 ['2'] []\n",
      "D:\\GAN\\2\\2 [] ['2.docx']\n"
     ]
    }
   ],
   "source": [
    "for root,dir,file in os.walk(path):\n",
    "    print(root,dir,file)"
   ]
  },
  {
   "cell_type": "code",
   "execution_count": 38,
   "id": "b8ad2ddf",
   "metadata": {},
   "outputs": [
    {
     "ename": "SyntaxError",
     "evalue": "invalid syntax (<ipython-input-38-7398a6c82fdf>, line 1)",
     "output_type": "error",
     "traceback": [
      "\u001b[1;36m  File \u001b[1;32m\"<ipython-input-38-7398a6c82fdf>\"\u001b[1;36m, line \u001b[1;32m1\u001b[0m\n\u001b[1;33m    _,+,file = next(os.walk(path))\u001b[0m\n\u001b[1;37m       ^\u001b[0m\n\u001b[1;31mSyntaxError\u001b[0m\u001b[1;31m:\u001b[0m invalid syntax\n"
     ]
    }
   ],
   "source": [
    "_,+,file = next(os.walk(path))\n",
    "print(file)"
   ]
  },
  {
   "cell_type": "code",
   "execution_count": 44,
   "id": "53d4c8a7",
   "metadata": {},
   "outputs": [],
   "source": [
    "root,dir,file = next(os.walk(path))"
   ]
  },
  {
   "cell_type": "code",
   "execution_count": 45,
   "id": "565960ad",
   "metadata": {},
   "outputs": [
    {
     "name": "stdout",
     "output_type": "stream",
     "text": [
      "['1', '2']\n"
     ]
    }
   ],
   "source": [
    "print(dir)"
   ]
  },
  {
   "cell_type": "code",
   "execution_count": 47,
   "id": "72199b4b",
   "metadata": {},
   "outputs": [],
   "source": [
    "x = list(os.walk(path))"
   ]
  },
  {
   "cell_type": "code",
   "execution_count": 48,
   "id": "e36a642f",
   "metadata": {},
   "outputs": [
    {
     "name": "stdout",
     "output_type": "stream",
     "text": [
      "[('D:\\\\GAN', ['1', '2'], ['DCGAN.pdf', 'GAN_1.pdf']), ('D:\\\\GAN\\\\1', [], ['1.docx']), ('D:\\\\GAN\\\\2', ['2'], []), ('D:\\\\GAN\\\\2\\\\2', [], ['2.docx'])]\n"
     ]
    }
   ],
   "source": [
    "print(x)"
   ]
  },
  {
   "cell_type": "code",
   "execution_count": 49,
   "id": "49a56434",
   "metadata": {},
   "outputs": [
    {
     "name": "stdout",
     "output_type": "stream",
     "text": [
      "('D:\\\\GAN', ['1', '2'], ['DCGAN.pdf', 'GAN_1.pdf'])\n"
     ]
    }
   ],
   "source": [
    "print(next(os.walk(path)))"
   ]
  },
  {
   "cell_type": "code",
   "execution_count": 54,
   "id": "01f80c06",
   "metadata": {},
   "outputs": [],
   "source": [
    "y = os.walk(path)"
   ]
  },
  {
   "cell_type": "code",
   "execution_count": 55,
   "id": "e9153dbd",
   "metadata": {},
   "outputs": [
    {
     "name": "stdout",
     "output_type": "stream",
     "text": [
      "('D:\\\\GAN', ['1', '2'], ['DCGAN.pdf', 'GAN_1.pdf'])\n"
     ]
    }
   ],
   "source": [
    "print(next(y))"
   ]
  },
  {
   "cell_type": "code",
   "execution_count": 56,
   "id": "cc2fa39e",
   "metadata": {},
   "outputs": [
    {
     "name": "stdout",
     "output_type": "stream",
     "text": [
      "('D:\\\\GAN\\\\1', [], ['1.docx'])\n"
     ]
    }
   ],
   "source": [
    "print(next(y))"
   ]
  },
  {
   "cell_type": "code",
   "execution_count": 57,
   "id": "1d947cba",
   "metadata": {},
   "outputs": [],
   "source": [
    "str=\"hello boy<[www.doiido.com]>byebye\""
   ]
  },
  {
   "cell_type": "code",
   "execution_count": 58,
   "id": "1712ce5b",
   "metadata": {},
   "outputs": [
    {
     "data": {
      "text/plain": [
       "'www.doiido.com'"
      ]
     },
     "execution_count": 58,
     "metadata": {},
     "output_type": "execute_result"
    }
   ],
   "source": [
    "str.split(\"[\")[1].split(\"]\")[0]"
   ]
  },
  {
   "cell_type": "code",
   "execution_count": 59,
   "id": "4c267f94",
   "metadata": {},
   "outputs": [
    {
     "data": {
      "text/plain": [
       "['hello boy<', 'www.doiido.com]>byebye']"
      ]
     },
     "execution_count": 59,
     "metadata": {},
     "output_type": "execute_result"
    }
   ],
   "source": [
    "str.split(\"[\")"
   ]
  },
  {
   "cell_type": "code",
   "execution_count": 60,
   "id": "a7c9ae38",
   "metadata": {},
   "outputs": [
    {
     "data": {
      "text/plain": [
       "'www.doiido.com]>byebye'"
      ]
     },
     "execution_count": 60,
     "metadata": {},
     "output_type": "execute_result"
    }
   ],
   "source": [
    "str.split(\"[\")[1]"
   ]
  },
  {
   "cell_type": "code",
   "execution_count": 61,
   "id": "4cd24069",
   "metadata": {},
   "outputs": [],
   "source": [
    "import torch"
   ]
  },
  {
   "cell_type": "code",
   "execution_count": 62,
   "id": "d54c922d",
   "metadata": {},
   "outputs": [],
   "source": [
    "import torch.nn as nn\n"
   ]
  },
  {
   "cell_type": "code",
   "execution_count": 71,
   "id": "806ef9db",
   "metadata": {},
   "outputs": [
    {
     "name": "stdout",
     "output_type": "stream",
     "text": [
      "tensor(12.7100)\n",
      "4\n",
      "tensor(3.1775)\n",
      "tensor(3.1775)\n",
      "tensor(3.1775)\n"
     ]
    }
   ],
   "source": [
    "a = torch.tensor([[1.5,2.1],[1.1,2.2]])\n",
    "b = torch.tensor([[3.0,4.2],[2.2,4.4]])\n",
    "criterion = nn.MSELoss(reduction='sum')\n",
    "criterion_1 = nn.MSELoss(reduction='mean')\n",
    "criterion_2 = nn.MSELoss()\n",
    "c = criterion(a,b)\n",
    "print(c)\n",
    "size = a.numel()\n",
    "print(size)\n",
    "print(c/size)\n",
    "d = criterion_1(a,b)\n",
    "print(d)\n",
    "e = criterion_2(a,b)\n",
    "print(e)"
   ]
  },
  {
   "cell_type": "code",
   "execution_count": 72,
   "id": "3a65d8ba",
   "metadata": {},
   "outputs": [
    {
     "data": {
      "text/plain": [
       "tensor(6.9000)"
      ]
     },
     "execution_count": 72,
     "metadata": {},
     "output_type": "execute_result"
    }
   ],
   "source": [
    "torch.sum(a)"
   ]
  },
  {
   "cell_type": "code",
   "execution_count": 73,
   "id": "79440fbe",
   "metadata": {},
   "outputs": [
    {
     "data": {
      "text/plain": [
       "tensor(1.7250)"
      ]
     },
     "execution_count": 73,
     "metadata": {},
     "output_type": "execute_result"
    }
   ],
   "source": [
    "torch.mean(a)"
   ]
  },
  {
   "cell_type": "code",
   "execution_count": 75,
   "id": "bae59399",
   "metadata": {},
   "outputs": [
    {
     "data": {
      "text/plain": [
       "tensor(1.7250)"
      ]
     },
     "execution_count": 75,
     "metadata": {},
     "output_type": "execute_result"
    }
   ],
   "source": [
    "torch.div(torch.sum(a),4)"
   ]
  },
  {
   "cell_type": "code",
   "execution_count": 87,
   "id": "e45ce069",
   "metadata": {},
   "outputs": [],
   "source": [
    "a = torch.tensor([[2.,2.],[2.,2.]])\n",
    "a.requires_grad = True"
   ]
  },
  {
   "cell_type": "code",
   "execution_count": 93,
   "id": "0c6d0c12",
   "metadata": {},
   "outputs": [],
   "source": [
    "b = torch.tensor([[2.,2.],[2.,2.]])\n",
    "b.requires_grad = True\n",
    "c = torch.tensor([[1.,1.],[1.,1.]])\n",
    "c.requires_grad = True"
   ]
  },
  {
   "cell_type": "code",
   "execution_count": 89,
   "id": "e8335137",
   "metadata": {},
   "outputs": [
    {
     "data": {
      "text/plain": [
       "tensor([[4., 4.],\n",
       "        [4., 4.]], grad_fn=<MulBackward0>)"
      ]
     },
     "execution_count": 89,
     "metadata": {},
     "output_type": "execute_result"
    }
   ],
   "source": [
    "a*b"
   ]
  },
  {
   "cell_type": "code",
   "execution_count": 96,
   "id": "3aeae115",
   "metadata": {},
   "outputs": [],
   "source": [
    "with torch.no_grad():\n",
    "    w = a+b"
   ]
  },
  {
   "cell_type": "code",
   "execution_count": 97,
   "id": "685ec863",
   "metadata": {},
   "outputs": [
    {
     "name": "stdout",
     "output_type": "stream",
     "text": [
      "True\n"
     ]
    }
   ],
   "source": [
    "print(a.requires_grad)"
   ]
  },
  {
   "cell_type": "code",
   "execution_count": 104,
   "id": "f361c80e",
   "metadata": {},
   "outputs": [],
   "source": [
    "criterion = nn.MSELoss()\n",
    "loss = criterion(w,c)"
   ]
  },
  {
   "cell_type": "code",
   "execution_count": 105,
   "id": "475c9285",
   "metadata": {},
   "outputs": [
    {
     "name": "stdout",
     "output_type": "stream",
     "text": [
      "True\n"
     ]
    }
   ],
   "source": [
    "print(loss.requires_grad)"
   ]
  },
  {
   "cell_type": "code",
   "execution_count": 106,
   "id": "9ff228b5",
   "metadata": {},
   "outputs": [],
   "source": [
    "import torch\n"
   ]
  },
  {
   "cell_type": "code",
   "execution_count": 107,
   "id": "6423ea16",
   "metadata": {},
   "outputs": [
    {
     "ename": "AttributeError",
     "evalue": "module 'torch' has no attribute 'load_dict'",
     "output_type": "error",
     "traceback": [
      "\u001b[1;31m---------------------------------------------------------------------------\u001b[0m",
      "\u001b[1;31mAttributeError\u001b[0m                            Traceback (most recent call last)",
      "\u001b[1;32m<ipython-input-107-cfc7dca351ab>\u001b[0m in \u001b[0;36m<module>\u001b[1;34m\u001b[0m\n\u001b[1;32m----> 1\u001b[1;33m \u001b[0mtorch\u001b[0m\u001b[1;33m.\u001b[0m\u001b[0mload_dict\u001b[0m\u001b[1;33m(\u001b[0m\u001b[1;33m)\u001b[0m\u001b[1;33m\u001b[0m\u001b[1;33m\u001b[0m\u001b[0m\n\u001b[0m",
      "\u001b[1;31mAttributeError\u001b[0m: module 'torch' has no attribute 'load_dict'"
     ]
    }
   ],
   "source": [
    "torch.load_dict()"
   ]
  },
  {
   "cell_type": "code",
   "execution_count": 108,
   "id": "f9da6fe4",
   "metadata": {},
   "outputs": [],
   "source": [
    "with open('D:/DL/{}.txt'.format('res_result'), 'w') as f:\n",
    "        print('epoch_res', file=f)"
   ]
  },
  {
   "cell_type": "code",
   "execution_count": 110,
   "id": "e557cfbe",
   "metadata": {},
   "outputs": [
    {
     "name": "stdout",
     "output_type": "stream",
     "text": [
      "s9\n"
     ]
    }
   ],
   "source": [
    "print('s{}'.format('9'))"
   ]
  },
  {
   "cell_type": "code",
   "execution_count": 159,
   "id": "01b9f8ab",
   "metadata": {},
   "outputs": [],
   "source": [
    "import torch\n",
    "import numpy as np\n",
    "tensor=torch.randn(7,7)  \n",
    "#print(\"tensor:\\n\",tensor) "
   ]
  },
  {
   "cell_type": "code",
   "execution_count": 160,
   "id": "36ef6f03",
   "metadata": {},
   "outputs": [],
   "source": [
    "array=tensor.numpy()  \n",
    "#print(\"tensor-array:\\n\",array)\n",
    "#print(\"array-tensor:\\n\",torch.from_numpy(array)) \n",
    " "
   ]
  },
  {
   "cell_type": "code",
   "execution_count": 161,
   "id": "6bc024a9",
   "metadata": {},
   "outputs": [
    {
     "data": {
      "image/png": "[encoded data removed]",
      "text/plain": [
       "<Figure size 432x288 with 1 Axes>"
      ]
     },
     "metadata": {
      "needs_background": "light"
     },
     "output_type": "display_data"
    }
   ],
   "source": [
    "import matplotlib as mpl\n",
    "from mpl_toolkits.mplot3d import Axes3D\n",
    "import numpy as np\n",
    "import matplotlib.pyplot as plt\n",
    "\n",
    "fig = plt.figure()\n",
    "mpl.rcParams['legend.fontsize'] = 10\n",
    " \n",
    "#fig = plt.figure()\n",
    "ax = fig.gca(projection='3d')"
   ]
  },
  {
   "cell_type": "code",
   "execution_count": 162,
   "id": "9b73fbf8",
   "metadata": {},
   "outputs": [],
   "source": [
    "size = array.shape"
   ]
  },
  {
   "cell_type": "code",
   "execution_count": 163,
   "id": "8165d4bf",
   "metadata": {},
   "outputs": [
    {
     "name": "stdout",
     "output_type": "stream",
     "text": [
      "(7, 7)\n"
     ]
    }
   ],
   "source": [
    "print(size)"
   ]
  },
  {
   "cell_type": "code",
   "execution_count": 168,
   "id": "56b50b71",
   "metadata": {},
   "outputs": [
    {
     "name": "stdout",
     "output_type": "stream",
     "text": [
      "[0 1 2 3 4 5 6]\n"
     ]
    }
   ],
   "source": [
    "x=np.arange(0,size[0],1)     \n",
    "y=np.arange(0,size[1],1)\n",
    "print(x)\n"
   ]
  },
  {
   "cell_type": "code",
   "execution_count": 165,
   "id": "e5ffd0ec",
   "metadata": {},
   "outputs": [
    {
     "name": "stdout",
     "output_type": "stream",
     "text": [
      "[0 1 2 3 4 5 6] [0 1 2 3 4 5 6]\n"
     ]
    }
   ],
   "source": [
    "print(x,y)"
   ]
  },
  {
   "cell_type": "code",
   "execution_count": 166,
   "id": "5bfe9683",
   "metadata": {},
   "outputs": [],
   "source": [
    "X,Y=np.meshgrid(x,y)    "
   ]
  },
  {
   "cell_type": "code",
   "execution_count": 167,
   "id": "dadbfb2c",
   "metadata": {},
   "outputs": [],
   "source": [
    "plt.show\n",
    "Z = array\n",
    "#print(Z)\n",
    "ax.plot_wireframe(X, Y, Z, label='parametric curve')\n",
    "ax.legend()\n",
    "plt.show()"
   ]
  },
  {
   "cell_type": "code",
   "execution_count": 169,
   "id": "a6ffec1e",
   "metadata": {},
   "outputs": [
    {
     "data": {
      "image/png": "[encoded data removed]",
      "text/plain": [
       "<Figure size 432x288 with 1 Axes>"
      ]
     },
     "metadata": {
      "needs_background": "light"
     },
     "output_type": "display_data"
    }
   ],
   "source": [
    "import matplotlib.pyplot as plt\n",
    "from mpl_toolkits.mplot3d import Axes3D\n",
    "fig = plt.figure()\n",
    "ax = fig.add_subplot(111, projection='3d')\n",
    "X = [1, 1, 2, 2]\n",
    "Y = [3, 4, 4, 3]\n",
    "Z = [1, 2, 1, 1]\n",
    "ax.plot_trisurf(X, Y, Z)\n",
    "plt.show()\n"
   ]
  },
  {
   "cell_type": "code",
   "execution_count": 170,
   "id": "47f51ede",
   "metadata": {},
   "outputs": [],
   "source": [
    "x = torch.randn(1,2,7,7)"
   ]
  },
  {
   "cell_type": "code",
   "execution_count": 171,
   "id": "bf3c2892",
   "metadata": {},
   "outputs": [],
   "source": [
    "y = torch.mean(x,dim=1)"
   ]
  },
  {
   "cell_type": "code",
   "execution_count": 172,
   "id": "fd0c93c6",
   "metadata": {},
   "outputs": [
    {
     "name": "stdout",
     "output_type": "stream",
     "text": [
      "tensor([[[-0.4765, -0.9210, -1.1299, -0.6870, -0.2623,  0.5264, -0.9235],\n",
      "         [ 0.1032,  0.2531,  0.9083, -1.0920,  0.2530,  0.1048, -0.5634],\n",
      "         [ 0.8460, -0.1895, -0.3717,  0.7814, -0.9543, -1.4538, -0.2704],\n",
      "         [-0.8712, -0.1268, -1.5989,  0.8496, -0.5084, -0.2276,  0.6454],\n",
      "         [ 0.4523, -0.7952,  1.0691, -0.8072,  0.1343, -0.2035, -0.4875],\n",
      "         [ 0.8043,  1.3526, -0.8870,  0.0339, -0.7155,  0.1441, -0.8695],\n",
      "         [-0.2270,  0.0703,  0.5545,  0.7966, -0.4794, -0.7088, -0.7810]]])\n"
     ]
    }
   ],
   "source": [
    "print(y)"
   ]
  },
  {
   "cell_type": "code",
   "execution_count": 174,
   "id": "7aa48d5e",
   "metadata": {},
   "outputs": [],
   "source": [
    "a = y.numpy()"
   ]
  },
  {
   "cell_type": "code",
   "execution_count": 175,
   "id": "5fe9a4dd",
   "metadata": {},
   "outputs": [
    {
     "name": "stdout",
     "output_type": "stream",
     "text": [
      "[[[-0.47649524 -0.920985   -1.1298866  -0.6870442  -0.26226458\n",
      "    0.526377   -0.923489  ]\n",
      "  [ 0.10322738  0.25308564  0.90832233 -1.0919899   0.25299823\n",
      "    0.10480869 -0.563384  ]\n",
      "  [ 0.84604466 -0.18947576 -0.3716955   0.7814347  -0.9543043\n",
      "   -1.4538324  -0.27044174]\n",
      "  [-0.8712284  -0.12680686 -1.5989074   0.8495879  -0.5083821\n",
      "   -0.22757341  0.64542353]\n",
      "  [ 0.45230252 -0.7951819   1.0690773  -0.8071747   0.13432318\n",
      "   -0.20347214 -0.48753026]\n",
      "  [ 0.8043419   1.3525833  -0.8869771   0.03394762 -0.71552765\n",
      "    0.14411858 -0.8695407 ]\n",
      "  [-0.22703315  0.07033721  0.55449176  0.7965765  -0.47943085\n",
      "   -0.708835   -0.78099567]]]\n"
     ]
    }
   ],
   "source": [
    "print(a)"
   ]
  },
  {
   "cell_type": "code",
   "execution_count": 179,
   "id": "d6fda223",
   "metadata": {},
   "outputs": [],
   "source": [
    "b = a.reshape(7,7)"
   ]
  },
  {
   "cell_type": "code",
   "execution_count": 181,
   "id": "b1ed9439",
   "metadata": {},
   "outputs": [
    {
     "name": "stdout",
     "output_type": "stream",
     "text": [
      "(7, 7)\n"
     ]
    }
   ],
   "source": [
    "print(b.shape)"
   ]
  },
  {
   "cell_type": "code",
   "execution_count": 14,
   "id": "1e842c3f",
   "metadata": {},
   "outputs": [
    {
     "name": "stdout",
     "output_type": "stream",
     "text": [
      "{'pig': 1, 'tiger': 2}\n",
      "pig\n",
      "1\n",
      "1\n"
     ]
    }
   ],
   "source": [
    "import pandas as pd\n",
    "import os\n",
    "def clip_info_write(info,file_write):\n",
    "        df = pd.DataFrame.from_dict(info)\n",
    "        column_names = ['video_name','clips_start']\n",
    "            \n",
    "        \n",
    "        if not os.path.isfile(file_write):\n",
    "            df.to_csv(file_write,index=False,columns=column_names)\n",
    "        else: # else it exists so append without writing the header\n",
    "            df.to_csv(file_write,mode = 'a',header=False,index=False,columns=column_names)   \n",
    "\n",
    "\n",
    "\n",
    "    \n",
    "def clip_info_read(file_read):\n",
    "        df = pd.read_csv(file_read,header=0,index_col=0,squeeze=True).to_dict()\n",
    "        print(df)\n",
    "        return df\n",
    "\n",
    "info1 = {\n",
    "    'video_name':['pig'],\n",
    "    'clips_start':[1]\n",
    "}\n",
    "info2 = {\n",
    "    'video_name':['tiger'],\n",
    "    'clips_start':[2]\n",
    "}\n",
    "file_path = r'C:\\Users\\HP\\Desktop\\info_clips.csv'\n",
    "clip_info_write(info1,file_path)\n",
    "clip_info_write(info2,file_path)\n",
    "df = clip_info_read(file_path)\n",
    "keys = df.keys()\n",
    "values = df.values()\n",
    "name = list(keys)[0]\n",
    "value1 = list(values)[0]\n",
    "value = df[name] \n",
    "print(name)\n",
    "print(value)\n",
    "print(value1)"
   ]
  },
  {
   "cell_type": "code",
   "execution_count": 44,
   "id": "3cf1bcd9",
   "metadata": {},
   "outputs": [
    {
     "name": "stdout",
     "output_type": "stream",
     "text": [
      "tensor([[[ 0.5439, -0.6741],\n",
      "         [-0.5379, -0.7739]],\n",
      "\n",
      "        [[-1.0826,  0.8560],\n",
      "         [-1.6325,  1.2376]],\n",
      "\n",
      "        [[-0.3099,  0.7201],\n",
      "         [-1.2261, -1.5951]]])\n",
      "tensor([[[0., 0.],\n",
      "         [0., 0.]],\n",
      "\n",
      "        [[0., 0.],\n",
      "         [0., 0.]]])\n"
     ]
    }
   ],
   "source": [
    "import torch\n",
    "a=torch.randn(3,2,2)\n",
    "b=torch.zeros(2,2,2)\n",
    "print(a)\n",
    "print(b)"
   ]
  },
  {
   "cell_type": "code",
   "execution_count": 47,
   "id": "f6374f7a",
   "metadata": {},
   "outputs": [
    {
     "ename": "RuntimeError",
     "evalue": "The expanded size of the tensor (0) must match the existing size (2) at non-singleton dimension 0.  Target sizes: [0, 2, 2].  Tensor sizes: [2, 2, 2]",
     "output_type": "error",
     "traceback": [
      "\u001b[1;31m---------------------------------------------------------------------------\u001b[0m",
      "\u001b[1;31mRuntimeError\u001b[0m                              Traceback (most recent call last)",
      "\u001b[1;32m<ipython-input-47-b50d8eaa5362>\u001b[0m in \u001b[0;36m<module>\u001b[1;34m\u001b[0m\n\u001b[1;32m----> 1\u001b[1;33m \u001b[0ma\u001b[0m\u001b[1;33m[\u001b[0m\u001b[1;33m-\u001b[0m\u001b[1;36m2\u001b[0m\u001b[1;33m:\u001b[0m\u001b[1;33m-\u001b[0m\u001b[1;36m3\u001b[0m\u001b[1;33m]\u001b[0m\u001b[1;33m=\u001b[0m\u001b[0mb\u001b[0m\u001b[1;33m\u001b[0m\u001b[1;33m\u001b[0m\u001b[0m\n\u001b[0m",
      "\u001b[1;31mRuntimeError\u001b[0m: The expanded size of the tensor (0) must match the existing size (2) at non-singleton dimension 0.  Target sizes: [0, 2, 2].  Tensor sizes: [2, 2, 2]"
     ]
    }
   ],
   "source": [
    "a[-2:]=b"
   ]
  },
  {
   "cell_type": "code",
   "execution_count": 46,
   "id": "63891b7d",
   "metadata": {},
   "outputs": [
    {
     "name": "stdout",
     "output_type": "stream",
     "text": [
      "tensor([[[ 0.5439, -0.6741],\n",
      "         [-0.5379, -0.7739]],\n",
      "\n",
      "        [[-1.0826,  0.8560],\n",
      "         [-1.6325,  1.2376]],\n",
      "\n",
      "        [[-0.3099,  0.7201],\n",
      "         [-1.2261, -1.5951]]])\n"
     ]
    }
   ],
   "source": [
    "print(a)"
   ]
  },
  {
   "cell_type": "code",
   "execution_count": null,
   "id": "1ddc2468",
   "metadata": {},
   "outputs": [],
   "source": []
  }
 ],
 "metadata": {
  "kernelspec": {
   "display_name": "Python 3",
   "language": "python",
   "name": "python3"
  },
  "language_info": {
   "codemirror_mode": {
    "name": "ipython",
    "version": 3
   },
   "file_extension": ".py",
   "mimetype": "text/x-python",
   "name": "python",
   "nbconvert_exporter": "python",
   "pygments_lexer": "ipython3",
   "version": "3.8.8"
  }
 },
 "nbformat": 4,
 "nbformat_minor": 5
}
